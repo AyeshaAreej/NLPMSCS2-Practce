{
  "nbformat": 4,
  "nbformat_minor": 0,
  "metadata": {
    "colab": {
      "provenance": [],
      "authorship_tag": "ABX9TyNer8OOA/ojVpllsyKVctR1",
      "include_colab_link": true
    },
    "kernelspec": {
      "name": "python3",
      "display_name": "Python 3"
    },
    "language_info": {
      "name": "python"
    }
  },
  "cells": [
    {
      "cell_type": "markdown",
      "metadata": {
        "id": "view-in-github",
        "colab_type": "text"
      },
      "source": [
        "<a href=\"https://colab.research.google.com/github/AyeshaAreej/NLPMSCS2-Practce/blob/main/NLPMSCS2.ipynb\" target=\"_parent\"><img src=\"https://colab.research.google.com/assets/colab-badge.svg\" alt=\"Open In Colab\"/></a>"
      ]
    },
    {
      "cell_type": "code",
      "source": [
        "import nltk\n",
        "from nltk.tokenize import word_tokenize\n",
        "from collections import defaultdict, Counter\n",
        "nltk.download('punkt_tab')"
      ],
      "metadata": {
        "id": "3tTS6prRmJH2",
        "colab": {
          "base_uri": "https://localhost:8080/"
        },
        "outputId": "5eaa04ce-9d1f-48be-f904-7da84fdee8a9"
      },
      "execution_count": null,
      "outputs": [
        {
          "output_type": "stream",
          "name": "stderr",
          "text": [
            "[nltk_data] Downloading package punkt_tab to /root/nltk_data...\n",
            "[nltk_data]   Unzipping tokenizers/punkt_tab.zip.\n"
          ]
        },
        {
          "output_type": "execute_result",
          "data": {
            "text/plain": [
              "True"
            ]
          },
          "metadata": {},
          "execution_count": 1
        }
      ]
    },
    {
      "cell_type": "code",
      "source": [
        "import nltk\n",
        "from nltk.tokenize import word_tokenize\n",
        "\n",
        "# Download the tokenizer models (only needed once)\n",
        "nltk.download('punkt')\n",
        "\n",
        "# Define the sentence\n",
        "sentence = \"the cat sat on the mat\"\n",
        "\n",
        "# Tokenize the sentence into words\n",
        "tokens = word_tokenize(sentence)\n",
        "\n",
        "# Print the tokens\n",
        "print(tokens)\n"
      ],
      "metadata": {
        "id": "Vk1DT1Q9qfSI",
        "outputId": "0f1314a6-ba42-4e49-9513-a6bee1348122",
        "colab": {
          "base_uri": "https://localhost:8080/"
        }
      },
      "execution_count": null,
      "outputs": [
        {
          "output_type": "stream",
          "name": "stdout",
          "text": [
            "['the', 'cat', 'sat', 'on', 'the', 'mat']\n"
          ]
        },
        {
          "output_type": "stream",
          "name": "stderr",
          "text": [
            "[nltk_data] Downloading package punkt to /root/nltk_data...\n",
            "[nltk_data]   Package punkt is already up-to-date!\n"
          ]
        }
      ]
    },
    {
      "cell_type": "code",
      "source": [
        "paragraphs = [\n",
        "    (\"This is a great day\", \"positive\"),\n",
        "    (\"This is a bad day\", \"negative\"),\n",
        "    (\"I love the beautiful weather today\", \"positive\"),\n",
        "    (\"I am so happy with my results\", \"positive\"),\n",
        "    (\"The food at this restaurant is amazing\", \"positive\"),\n",
        "    (\"The service was terrible and slow\", \"negative\"),\n",
        "    (\"I hate when my phone battery dies\", \"negative\"),\n",
        "    (\"I feel fantastic after my workout\", \"positive\"),\n",
        "    (\"The traffic jam made me late for work\", \"negative\"),\n",
        "    (\"It was a wonderful experience\", \"positive\"),\n",
        "    (\"I am feeling very sick today\", \"negative\"),\n",
        "    (\"The movie was absolutely brilliant\", \"positive\"),\n",
        "    (\"The flight delay was frustrating\", \"negative\"),\n",
        "    (\"I am so excited for my vacation\", \"positive\"),\n",
        "    (\"The customer service was awful\", \"negative\"),\n",
        "    (\"The view from the mountain was breathtaking\", \"positive\"),\n",
        "    (\"I am disappointed with the product quality\", \"negative\"),\n",
        "    (\"My friends always support me\", \"positive\"),\n",
        "    (\"The noise in the neighborhood is unbearable\", \"negative\"),\n",
        "    (\"I had a fantastic weekend\", \"positive\")\n",
        "]\n"
      ],
      "metadata": {
        "id": "4uW7c3ICmTmK"
      },
      "execution_count": null,
      "outputs": []
    },
    {
      "cell_type": "code",
      "source": [
        "# Code for Positive and Negative Counts\n",
        "vocabulary = defaultdict(lambda: {\"positive\": 0, \"negative\": 0})\n",
        "for text, label in paragraphs:\n",
        "  tokens = word_tokenize(text.lower())\n",
        "  for token in tokens:\n",
        "    vocabulary[token][label] += 1\n",
        "\n",
        "# Print the vocabulary in a readable format\n",
        "print(\"\\nWord Frequency Table:\")\n",
        "print(\"=\" * 30)\n",
        "print(f\"{'Word':<15} {'Positive':<10} {'Negative':<10}\")\n",
        "print(\"=\" * 30)\n",
        "\n",
        "for word, freq in sorted(vocabulary.items()):\n",
        "    print(f\"{word:<15} {freq['positive']:<10} {freq['negative']:<10}\")\n",
        "\n",
        "print(\"=\" * 30)"
      ],
      "metadata": {
        "colab": {
          "base_uri": "https://localhost:8080/"
        },
        "id": "B3SUnNPrk3aC",
        "outputId": "26f7cdc8-c8cd-4633-dc3e-0130f9ceac55"
      },
      "execution_count": null,
      "outputs": [
        {
          "output_type": "stream",
          "name": "stdout",
          "text": [
            "\n",
            "Word Frequency Table:\n",
            "==============================\n",
            "Word            Positive   Negative  \n",
            "==============================\n",
            "a               3          1         \n",
            "absolutely      1          0         \n",
            "after           1          0         \n",
            "always          1          0         \n",
            "am              2          2         \n",
            "amazing         1          0         \n",
            "and             0          1         \n",
            "at              1          0         \n",
            "awful           0          1         \n",
            "bad             0          1         \n",
            "battery         0          1         \n",
            "beautiful       1          0         \n",
            "breathtaking    1          0         \n",
            "brilliant       1          0         \n",
            "customer        0          1         \n",
            "day             1          1         \n",
            "delay           0          1         \n",
            "dies            0          1         \n",
            "disappointed    0          1         \n",
            "excited         1          0         \n",
            "experience      1          0         \n",
            "fantastic       2          0         \n",
            "feel            1          0         \n",
            "feeling         0          1         \n",
            "flight          0          1         \n",
            "food            1          0         \n",
            "for             1          1         \n",
            "friends         1          0         \n",
            "from            1          0         \n",
            "frustrating     0          1         \n",
            "great           1          0         \n",
            "had             1          0         \n",
            "happy           1          0         \n",
            "hate            0          1         \n",
            "i               5          3         \n",
            "in              0          1         \n",
            "is              2          2         \n",
            "it              1          0         \n",
            "jam             0          1         \n",
            "late            0          1         \n",
            "love            1          0         \n",
            "made            0          1         \n",
            "me              1          1         \n",
            "mountain        1          0         \n",
            "movie           1          0         \n",
            "my              4          1         \n",
            "neighborhood    0          1         \n",
            "noise           0          1         \n",
            "phone           0          1         \n",
            "product         0          1         \n",
            "quality         0          1         \n",
            "restaurant      1          0         \n",
            "results         1          0         \n",
            "service         0          2         \n",
            "sick            0          1         \n",
            "slow            0          1         \n",
            "so              2          0         \n",
            "support         1          0         \n",
            "terrible        0          1         \n",
            "the             5          7         \n",
            "this            2          1         \n",
            "today           1          1         \n",
            "traffic         0          1         \n",
            "unbearable      0          1         \n",
            "vacation        1          0         \n",
            "very            0          1         \n",
            "view            1          0         \n",
            "was             3          3         \n",
            "weather         1          0         \n",
            "weekend         1          0         \n",
            "when            0          1         \n",
            "with            1          1         \n",
            "wonderful       1          0         \n",
            "work            0          1         \n",
            "workout         1          0         \n",
            "==============================\n"
          ]
        }
      ]
    },
    {
      "cell_type": "code",
      "source": [
        "#Feature Extraction Code\n",
        "\n",
        "# Generate feature vectors for each sentence\n",
        "print(\"\\nFeature Vectors for Each Sentence:\")\n",
        "print(\"=\" * 50)\n",
        "\n",
        "feature_vectors = []\n",
        "\n",
        "for text, _ in paragraphs:\n",
        "    positive_sum = 0\n",
        "    negative_sum = 0\n",
        "    tokens = word_tokenize(text.lower())\n",
        "    for token in tokens:\n",
        "        if token in vocabulary:\n",
        "            positive_sum += vocabulary[token][\"positive\"]\n",
        "            negative_sum += vocabulary[token][\"negative\"]\n",
        "\n",
        "    feature_vector = [1, positive_sum, negative_sum]\n",
        "    feature_vectors.append((text, feature_vector))\n",
        "\n",
        "\n",
        "    print(f\"Sentence: {text}\")\n",
        "    print(f\"Feature Vector: {feature_vector}\")\n",
        "    print(\"-\" * 50)\n",
        "\n",
        "\n",
        "\n",
        "\n",
        "\n",
        "# Debugging: Print sentiment sums for all text data\n",
        "print(f\"\\nTotal Positive Score: {positive_sum}\")\n",
        "print(f\"Total Negative Score: {negative_sum}\")\n",
        "\n",
        "# Debugging: Print feature vector\n",
        "print(f\"\\nFeature Vector: {feature_vector}\")"
      ],
      "metadata": {
        "colab": {
          "base_uri": "https://localhost:8080/"
        },
        "id": "GmJ5z1AhpZJg",
        "outputId": "a9b9cfdd-7007-4e2f-d8cd-b1079a6b57cc"
      },
      "execution_count": null,
      "outputs": [
        {
          "output_type": "stream",
          "name": "stdout",
          "text": [
            "\n",
            "Feature Vectors for Each Sentence:\n",
            "==================================================\n",
            "Sentence: This is a great day\n",
            "Feature Vector: [1, 9, 5]\n",
            "--------------------------------------------------\n",
            "Sentence: This is a bad day\n",
            "Feature Vector: [1, 8, 6]\n",
            "--------------------------------------------------\n",
            "Sentence: I love the beautiful weather today\n",
            "Feature Vector: [1, 14, 11]\n",
            "--------------------------------------------------\n",
            "Sentence: I am so happy with my results\n",
            "Feature Vector: [1, 16, 7]\n",
            "--------------------------------------------------\n",
            "Sentence: The food at this restaurant is amazing\n",
            "Feature Vector: [1, 13, 10]\n",
            "--------------------------------------------------\n",
            "Sentence: The service was terrible and slow\n",
            "Feature Vector: [1, 8, 15]\n",
            "--------------------------------------------------\n",
            "Sentence: I hate when my phone battery dies\n",
            "Feature Vector: [1, 9, 9]\n",
            "--------------------------------------------------\n",
            "Sentence: I feel fantastic after my workout\n",
            "Feature Vector: [1, 14, 4]\n",
            "--------------------------------------------------\n",
            "Sentence: The traffic jam made me late for work\n",
            "Feature Vector: [1, 7, 14]\n",
            "--------------------------------------------------\n",
            "Sentence: It was a wonderful experience\n",
            "Feature Vector: [1, 9, 4]\n",
            "--------------------------------------------------\n",
            "Sentence: I am feeling very sick today\n",
            "Feature Vector: [1, 8, 9]\n",
            "--------------------------------------------------\n",
            "Sentence: The movie was absolutely brilliant\n",
            "Feature Vector: [1, 11, 10]\n",
            "--------------------------------------------------\n",
            "Sentence: The flight delay was frustrating\n",
            "Feature Vector: [1, 8, 13]\n",
            "--------------------------------------------------\n",
            "Sentence: I am so excited for my vacation\n",
            "Feature Vector: [1, 16, 7]\n",
            "--------------------------------------------------\n",
            "Sentence: The customer service was awful\n",
            "Feature Vector: [1, 8, 14]\n",
            "--------------------------------------------------\n",
            "Sentence: The view from the mountain was breathtaking\n",
            "Feature Vector: [1, 17, 17]\n",
            "--------------------------------------------------\n",
            "Sentence: I am disappointed with the product quality\n",
            "Feature Vector: [1, 13, 16]\n",
            "--------------------------------------------------\n",
            "Sentence: My friends always support me\n",
            "Feature Vector: [1, 8, 2]\n",
            "--------------------------------------------------\n",
            "Sentence: The noise in the neighborhood is unbearable\n",
            "Feature Vector: [1, 12, 20]\n",
            "--------------------------------------------------\n",
            "Sentence: I had a fantastic weekend\n",
            "Feature Vector: [1, 12, 4]\n",
            "--------------------------------------------------\n",
            "\n",
            "Total Positive Score: 12\n",
            "Total Negative Score: 4\n",
            "\n",
            "Feature Vector: [1, 12, 4]\n"
          ]
        }
      ]
    },
    {
      "cell_type": "code",
      "execution_count": null,
      "metadata": {
        "colab": {
          "base_uri": "https://localhost:8080/"
        },
        "id": "GuOrWA8ZkG0r",
        "outputId": "87eaf3bf-098e-4963-feef-c8a5fa16c1e8"
      },
      "outputs": [
        {
          "output_type": "stream",
          "name": "stdout",
          "text": [
            "['learning', 'NLP', 'exciting']\n"
          ]
        },
        {
          "output_type": "stream",
          "name": "stderr",
          "text": [
            "[nltk_data] Downloading package stopwords to /root/nltk_data...\n",
            "[nltk_data]   Package stopwords is already up-to-date!\n"
          ]
        }
      ],
      "source": [
        "#stopwords and punctuation\n",
        "import nltk\n",
        "from nltk.corpus import stopwords\n",
        "from nltk.tokenize import word_tokenize\n",
        "import string\n",
        "\n",
        "nltk.download('stopwords')\n",
        "\n",
        "# Example text\n",
        "text = \"I am learning NLP, and it is very exciting!\"\n",
        "\n",
        "# Get English stop words\n",
        "stop_w = set(stopwords.words('english'))\n",
        "\n",
        "# Tokenize words\n",
        "tokens = word_tokenize(text)\n",
        "\n",
        "# Remove stop words and punctuation\n",
        "filtered_tokens = [word for word in tokens if word.lower() not in stop_w and word not in string.punctuation]\n",
        "\n",
        "print(filtered_tokens)  # Output: ['learning', 'NLP', 'exciting']\n",
        "\n"
      ]
    },
    {
      "cell_type": "code",
      "source": [
        "#Lemmitization\n",
        "import nltk\n",
        "from nltk.tokenize import word_tokenize\n",
        "from nltk.stem import WordNetLemmatizer\n",
        "from nltk.corpus import wordnet\n",
        "\n",
        "# Ensure required resources are available\n",
        "nltk.download('punkt')\n",
        "nltk.download('wordnet')\n",
        "\n",
        "# Sample sentences\n",
        "sentences = [\n",
        "    \"The cars are running fast on the roads.\",\n",
        "    \"He is thinking about his studies.\",\n",
        "    \"The leaves have fallen from the trees.\",\n",
        "    \"She enjoys being alone.\",\n",
        "    \"The birds are flying in the sky.\",\n",
        "    \"Children are playing happily in the park.\",\n",
        "]\n",
        "\n",
        "# Initialize Lemmatizer\n",
        "lemmatizer = WordNetLemmatizer()\n",
        "\n",
        "print(\"\\nLemmatization Results\")\n",
        "print(\"=\" * 50)\n",
        "\n",
        "for sentence in sentences:\n",
        "    # Tokenize sentence into words\n",
        "    tokens = word_tokenize(sentence.lower())\n",
        "\n",
        "    # Apply lemmatization\n",
        "    lemmatized_words = [lemmatizer.lemmatize(word, wordnet.VERB) for word in tokens]\n",
        "\n",
        "    # Print results\n",
        "    print(f\"\\nSentence: {sentence}\")\n",
        "    print(f\"{'Word':<15} {'Lemmatized':<15}\")\n",
        "    print(\"-\" * 30)\n",
        "\n",
        "    for word, lemma in zip(tokens, lemmatized_words):\n",
        "        print(f\"{word:<15} {lemma:<15}\")\n",
        "\n",
        "    print(\"=\" * 50)\n"
      ],
      "metadata": {
        "colab": {
          "base_uri": "https://localhost:8080/"
        },
        "id": "qAVPQ9lYqN1H",
        "outputId": "7ad1fbd5-6f1d-4af0-ed2e-597b95bf7ce8"
      },
      "execution_count": null,
      "outputs": [
        {
          "output_type": "stream",
          "name": "stdout",
          "text": [
            "\n",
            "Lemmatization Results\n",
            "==================================================\n",
            "\n",
            "Sentence: The cars are running fast on the roads.\n",
            "Word            Lemmatized     \n",
            "------------------------------\n",
            "the             the            \n",
            "cars            cars           \n",
            "are             be             \n",
            "running         run            \n",
            "fast            fast           \n",
            "on              on             \n",
            "the             the            \n",
            "roads           roads          \n",
            ".               .              \n",
            "==================================================\n",
            "\n",
            "Sentence: He is thinking about his studies.\n",
            "Word            Lemmatized     \n",
            "------------------------------\n",
            "he              he             \n",
            "is              be             \n",
            "thinking        think          \n",
            "about           about          \n",
            "his             his            \n",
            "studies         study          \n",
            ".               .              \n",
            "==================================================\n",
            "\n",
            "Sentence: The leaves have fallen from the trees.\n",
            "Word            Lemmatized     \n",
            "------------------------------\n",
            "the             the            \n",
            "leaves          leave          \n",
            "have            have           \n",
            "fallen          fall           \n",
            "from            from           \n",
            "the             the            \n",
            "trees           tree           \n",
            ".               .              \n",
            "==================================================\n",
            "\n",
            "Sentence: She enjoys being alone.\n",
            "Word            Lemmatized     \n",
            "------------------------------\n",
            "she             she            \n",
            "enjoys          enjoy          \n",
            "being           be             \n",
            "alone           alone          \n",
            ".               .              \n",
            "==================================================\n",
            "\n",
            "Sentence: The birds are flying in the sky.\n",
            "Word            Lemmatized     \n",
            "------------------------------\n",
            "the             the            \n",
            "birds           bird           \n",
            "are             be             \n",
            "flying          fly            \n",
            "in              in             \n",
            "the             the            \n",
            "sky             sky            \n",
            ".               .              \n",
            "==================================================\n",
            "\n",
            "Sentence: Children are playing happily in the park.\n",
            "Word            Lemmatized     \n",
            "------------------------------\n",
            "children        children       \n",
            "are             be             \n",
            "playing         play           \n",
            "happily         happily        \n",
            "in              in             \n",
            "the             the            \n",
            "park            park           \n",
            ".               .              \n",
            "==================================================\n"
          ]
        },
        {
          "output_type": "stream",
          "name": "stderr",
          "text": [
            "[nltk_data] Downloading package punkt to /root/nltk_data...\n",
            "[nltk_data]   Package punkt is already up-to-date!\n",
            "[nltk_data] Downloading package wordnet to /root/nltk_data...\n",
            "[nltk_data]   Package wordnet is already up-to-date!\n"
          ]
        }
      ]
    },
    {
      "cell_type": "markdown",
      "source": [
        "**Text Representaion Techniques**\n",
        "\n",
        "\n",
        "*   One-Hot Encoding\n",
        "*   Bag of Words\n",
        "*   TF-IDF\n",
        "*   N-grams\n",
        "*   Word Embeddings\n",
        "\n",
        "\n",
        "\n"
      ],
      "metadata": {
        "id": "lA6_A0wn0_dJ"
      }
    },
    {
      "cell_type": "code",
      "source": [
        "from sklearn.preprocessing import OneHotEncoder\n",
        "import numpy as np\n",
        "\n",
        "# Sample vocabulary\n",
        "vocab = np.array([\"I\", \"love\",\"eat\",\"apples\",]).reshape(-1, 1)\n",
        "\n",
        "# Initialize OneHotEncoder\n",
        "encoder = OneHotEncoder(sparse_output=False)\n",
        "\n",
        "# Fit and transform the vocabulary\n",
        "onehot_encoded = encoder.fit_transform(vocab)\n",
        "\n",
        "# Display the one-hot encoded vectors\n",
        "print(\"Vocabulary:\", encoder.get_feature_names_out())\n",
        "print(\"One-Hot Encoded Vectors:\\n\", onehot_encoded)\n",
        "\"\""
      ],
      "metadata": {
        "colab": {
          "base_uri": "https://localhost:8080/",
          "height": 132
        },
        "id": "owLjSH8s1jD4",
        "outputId": "82d5134c-6d99-428b-c1b7-b63d4ada3218"
      },
      "execution_count": null,
      "outputs": [
        {
          "output_type": "stream",
          "name": "stdout",
          "text": [
            "Vocabulary: ['x0_I' 'x0_apples' 'x0_eat' 'x0_love']\n",
            "One-Hot Encoded Vectors:\n",
            " [[1. 0. 0. 0.]\n",
            " [0. 0. 0. 1.]\n",
            " [0. 0. 1. 0.]\n",
            " [0. 1. 0. 0.]]\n"
          ]
        },
        {
          "output_type": "execute_result",
          "data": {
            "text/plain": [
              "''"
            ],
            "application/vnd.google.colaboratory.intrinsic+json": {
              "type": "string"
            }
          },
          "metadata": {},
          "execution_count": 41
        }
      ]
    },
    {
      "cell_type": "code",
      "source": [
        "from sklearn.feature_extraction.text import CountVectorizer\n",
        "import pandas as pd\n",
        "\n",
        "# Sample sentences\n",
        "sentences = [\n",
        "    \"I love apples\",\n",
        "    \"I eat apples and apples are tasty\",\n",
        "    \"Apples are delicious and I love them\"\n",
        "]\n",
        "\n",
        "# Initialize CountVectorizer\n",
        "vectorizer = CountVectorizer()\n",
        "\n",
        "# Fit and transform the sentences\n",
        "X = vectorizer.fit_transform(sentences)\n",
        "\n",
        "# Convert the sparse matrix to a DataFrame for better readability\n",
        "df = pd.DataFrame(X.toarray(), columns=vectorizer.get_feature_names_out())\n",
        "\n",
        "# Set the index to start from 1 and name it 'Document'\n",
        "df.index = pd.RangeIndex(start=1, stop=len(df) + 1, name='Document')\n",
        "\n",
        "# Display the DataFrame\n",
        "print(\"Bag of Words Representation:\\n\")\n",
        "print(df)\n"
      ],
      "metadata": {
        "colab": {
          "base_uri": "https://localhost:8080/"
        },
        "id": "xpFoFMBr2WdC",
        "outputId": "e789175c-2848-48d1-8eb0-69e152efb7e2"
      },
      "execution_count": null,
      "outputs": [
        {
          "output_type": "stream",
          "name": "stdout",
          "text": [
            "Bag of Words Representation:\n",
            "\n",
            "          and  apples  are  delicious  eat  love  tasty  them\n",
            "Document                                                     \n",
            "1           0       1    0          0    0     1      0     0\n",
            "2           1       2    1          0    1     0      1     0\n",
            "3           1       1    1          1    0     1      0     1\n"
          ]
        }
      ]
    },
    {
      "cell_type": "code",
      "source": [
        "from sklearn.feature_extraction.text import TfidfVectorizer\n",
        "import pandas as pd\n",
        "\n",
        "# Sample sentences\n",
        "sentences = [\"I love apples\", \"I eat apples\"]\n",
        "\n",
        "# Initialize TfidfVectorizer\n",
        "vectorizer = TfidfVectorizer()\n",
        "\n",
        "# Fit and transform the sentences\n",
        "X = vectorizer.fit_transform(sentences)\n",
        "\n",
        "# Convert the TF-IDF matrix to a DataFrame\n",
        "df = pd.DataFrame(X.toarray(), columns=vectorizer.get_feature_names_out())\n",
        "\n",
        "# Set the index to start from 1 and name it 'Document'\n",
        "df.index = pd.RangeIndex(start=1, stop=len(df) + 1, name='Document')\n",
        "\n",
        "# Display the DataFrame\n",
        "print(\"TF-IDF Representation:\\n\")\n",
        "print(df)\n"
      ],
      "metadata": {
        "colab": {
          "base_uri": "https://localhost:8080/"
        },
        "id": "ynkwucpU39Bf",
        "outputId": "0631e386-8fbd-4346-84bb-b47bfca227e4"
      },
      "execution_count": null,
      "outputs": [
        {
          "output_type": "stream",
          "name": "stdout",
          "text": [
            "TF-IDF Representation:\n",
            "\n",
            "            apples       eat      love\n",
            "Document                              \n",
            "1         0.579739  0.000000  0.814802\n",
            "2         0.579739  0.814802  0.000000\n"
          ]
        }
      ]
    },
    {
      "cell_type": "code",
      "source": [
        "#N-Grams\n",
        "def generate_ngrams(text, n):\n",
        "    # Split the text into words\n",
        "    words = text.split()\n",
        "    # Use list comprehension to create n-grams\n",
        "    ngrams = [' '.join(words[i:i+n]) for i in range(len(words)-n+1)]\n",
        "    return ngrams\n",
        "\n",
        "# Example usage\n",
        "text = \"I love natural language processing\"\n",
        "bigrams = generate_ngrams(text, 2)\n",
        "print(\"Custom Bigrams:\", bigrams)\n",
        "\n",
        "\n",
        "#N-gram with nltk\n",
        "import nltk\n",
        "from nltk.util import ngrams\n",
        "from nltk.tokenize import word_tokenize\n",
        "\n",
        "# Ensure the necessary resources are downloaded\n",
        "nltk.download('punkt')\n",
        "\n",
        "# Sample text\n",
        "text = \"I love natural language processing\"\n",
        "\n",
        "# Tokenize the text into words\n",
        "tokens = word_tokenize(text)\n",
        "\n",
        "# Generate trigrams (n=3)\n",
        "trigrams = list(ngrams(tokens, 3))\n",
        "print(\"Trigrams with nltk library:\", trigrams)\n"
      ],
      "metadata": {
        "colab": {
          "base_uri": "https://localhost:8080/"
        },
        "id": "ODDKhaCuCkib",
        "outputId": "44d72f4d-1599-4460-a40e-e3926b9ffbe3"
      },
      "execution_count": null,
      "outputs": [
        {
          "output_type": "stream",
          "name": "stdout",
          "text": [
            "Custom Bigrams: ['I love', 'love natural', 'natural language', 'language processing']\n",
            "Trigrams with nltk library: [('I', 'love', 'natural'), ('love', 'natural', 'language'), ('natural', 'language', 'processing')]\n"
          ]
        },
        {
          "output_type": "stream",
          "name": "stderr",
          "text": [
            "[nltk_data] Downloading package punkt to /root/nltk_data...\n",
            "[nltk_data]   Package punkt is already up-to-date!\n"
          ]
        }
      ]
    },
    {
      "cell_type": "markdown",
      "source": [
        "**Activation Functions**\n",
        "\n",
        "\n",
        "*   Sigmoid\n",
        "*   Softmax\n",
        "*   Tanh\n",
        "*   Relu\n",
        "\n",
        "\n",
        "\n"
      ],
      "metadata": {
        "id": "Jm-cqsJAtBkF"
      }
    },
    {
      "cell_type": "code",
      "source": [
        "import numpy as np\n",
        "import matplotlib.pyplot as plt\n",
        "\n",
        "# Generate input values\n",
        "z = np.linspace(-5, 5, 100)\n",
        "relu_values = np.maximum(0, z)\n",
        "\n",
        "# Plot the ReLU function\n",
        "plt.figure(figsize=(6,4))\n",
        "plt.plot(z, relu_values, label=\"ReLU(z)\", color=\"red\")\n",
        "plt.axhline(0, color='black', linewidth=0.5, linestyle=\"--\")\n",
        "plt.axvline(0, color='black', linewidth=0.5, linestyle=\"--\")\n",
        "plt.title(\"ReLU Activation Function\")\n",
        "plt.xlabel(\"z\")\n",
        "plt.ylabel(\"ReLU(z)\")\n",
        "plt.legend()\n",
        "plt.grid()\n",
        "plt.show()\n"
      ],
      "metadata": {
        "colab": {
          "base_uri": "https://localhost:8080/",
          "height": 409
        },
        "id": "vYmpp0uus00N",
        "outputId": "4762dabb-6955-4546-8c81-9ff6deb54a00"
      },
      "execution_count": null,
      "outputs": [
        {
          "output_type": "display_data",
          "data": {
            "text/plain": [
              "<Figure size 600x400 with 1 Axes>"
            ],
            "image/png": "[encoded data removed]"
          },
          "metadata": {}
        }
      ]
    },
    {
      "cell_type": "markdown",
      "source": [
        "**BPE**"
      ],
      "metadata": {
        "id": "B9sJ1xqZPO1c"
      }
    },
    {
      "cell_type": "code",
      "source": [],
      "metadata": {
        "id": "k_SunflHPSsz"
      },
      "execution_count": null,
      "outputs": []
    },
    {
      "cell_type": "markdown",
      "source": [
        "**Fast Text**"
      ],
      "metadata": {
        "id": "tDq3duU_9uFY"
      }
    },
    {
      "cell_type": "code",
      "source": [
        "!pip install fasttext\n",
        "#!pip install git+https://github.com/facebookresearch/fastText.git\n"
      ],
      "metadata": {
        "colab": {
          "base_uri": "https://localhost:8080/"
        },
        "id": "aMexzoEq-iBX",
        "outputId": "364f8a4c-c9f3-42ec-9ec4-60dbdbbdfd75"
      },
      "execution_count": 3,
      "outputs": [
        {
          "output_type": "stream",
          "name": "stdout",
          "text": [
            "Collecting fasttext\n",
            "  Using cached fasttext-0.9.3.tar.gz (73 kB)\n",
            "  Installing build dependencies ... \u001b[?25l\u001b[?25hdone\n",
            "  Getting requirements to build wheel ... \u001b[?25l\u001b[?25hdone\n",
            "  Preparing metadata (pyproject.toml) ... \u001b[?25l\u001b[?25hdone\n",
            "Collecting pybind11>=2.2 (from fasttext)\n",
            "  Using cached pybind11-2.13.6-py3-none-any.whl.metadata (9.5 kB)\n",
            "Requirement already satisfied: setuptools>=0.7.0 in /usr/local/lib/python3.11/dist-packages (from fasttext) (75.1.0)\n",
            "Requirement already satisfied: numpy in /usr/local/lib/python3.11/dist-packages (from fasttext) (1.26.4)\n",
            "Using cached pybind11-2.13.6-py3-none-any.whl (243 kB)\n",
            "Building wheels for collected packages: fasttext\n",
            "  Building wheel for fasttext (pyproject.toml) ... \u001b[?25l\u001b[?25hdone\n",
            "  Created wheel for fasttext: filename=fasttext-0.9.3-cp311-cp311-linux_x86_64.whl size=4313469 sha256=c1748159c8cce7f914e6cb4b36da017395553b288bcf685c3b94a71b5bcf4b09\n",
            "  Stored in directory: /root/.cache/pip/wheels/65/4f/35/5057db0249224e9ab55a513fa6b79451473ceb7713017823c3\n",
            "Successfully built fasttext\n",
            "Installing collected packages: pybind11, fasttext\n",
            "Successfully installed fasttext-0.9.3 pybind11-2.13.6\n"
          ]
        }
      ]
    },
    {
      "cell_type": "code",
      "source": [
        "import fasttext\n",
        "\n",
        "# 1. Create a temporary text file with some sample data\n",
        "text_data = \"\"\"apple banana fruit apple banana orange fruit mango banana apple\n",
        "               dog cat pet dog cat tiger lion elephant pet animal\n",
        "               car bus vehicle car bus bike bicycle transport travel\n",
        "               phone laptop computer phone laptop tablet gadget tech\"\"\"\n",
        "\n",
        "with open(\"temp_corpus.txt\", \"w\") as f:\n",
        "    f.write(text_data)\n",
        "\n",
        "# 2. Train FastText Skip-gram model\n",
        "model = fasttext.train_unsupervised(\"temp_corpus.txt\", model=\"skipgram\", minCount=1, neg=5)\n",
        "\n",
        "# 3. Get word vector for \"apple\"\n",
        "vector_apple = model.get_word_vector(\"apple\")\n",
        "\n",
        "# 4. Find similar words to \"apple\"\n",
        "nearest_words = model.get_nearest_neighbors(\"apple\")\n",
        "\n",
        "# 5. Print results\n",
        "print(\"Word Vector for 'apple':\", vector_apple[:5])  # Display first 5 dimensions\n",
        "print(\"Similar words to 'apple':\", nearest_words)\n",
        "\n"
      ],
      "metadata": {
        "colab": {
          "base_uri": "https://localhost:8080/"
        },
        "id": "BqAPeh2D9zJX",
        "outputId": "46672d0b-d11a-4f82-87f8-eca50a6120f8"
      },
      "execution_count": 5,
      "outputs": [
        {
          "output_type": "stream",
          "name": "stdout",
          "text": [
            "Word Vector for 'apple': [ 4.8668060e-04 -5.3762522e-04 -6.1046187e-05 -2.3233632e-04\n",
            "  1.9145687e-05]\n",
            "Similar words to 'apple': [(0.18128834664821625, 'bike'), (0.12936867773532867, 'computer'), (0.11369255185127258, 'vehicle'), (0.09258145838975906, 'car'), (0.07964383810758591, 'tiger'), (0.07948607206344604, 'dog'), (0.07764071226119995, 'travel'), (0.0757538452744484, 'tablet'), (0.047619905322790146, 'laptop'), (0.0392359159886837, '</s>')]\n"
          ]
        }
      ]
    }
  ]
}